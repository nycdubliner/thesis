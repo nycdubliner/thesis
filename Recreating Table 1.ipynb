{
 "cells": [
  {
   "cell_type": "code",
   "execution_count": 46,
   "metadata": {
    "collapsed": false
   },
   "outputs": [
    {
     "name": "stdout",
     "output_type": "stream",
     "text": [
      "Populating the interactive namespace from numpy and matplotlib\n"
     ]
    }
   ],
   "source": [
    "%pylab inline\n",
    "import pandas"
   ]
  },
  {
   "cell_type": "code",
   "execution_count": 53,
   "metadata": {
    "collapsed": false
   },
   "outputs": [],
   "source": [
    "data = pandas.read_stata(\"ZA1715_v1-0-1.dta\")\n",
    "\n",
    "    "
   ]
  },
  {
   "cell_type": "markdown",
   "metadata": {},
   "source": [
    "```\n",
    "The variables we want to compare are:\n",
    "v563 Common Defense\n",
    "v566 Common Foreign Policy \n",
    "v565 Single Currency \n",
    "v567 European Government\n",
    "\n",
    "To do this we need the european weighting from Footnote 12: \n",
    "In calculating the correlations, national weights were applied to all observations so as to provide\n",
    "a representative sample of the EU population. In addition, an identical analysis was conducted that\n",
    "excluded all responses of \"don't know\". The results were very similar to those presented here. In in-\n",
    "terpreting the correlations, remember that discrete variables allow only a crude representations of the\n",
    "actual continuum of responses to each question. This tends to attenuate the magnitude of the corre-\n",
    "lations among the variables (Kim and Mueller 1978, 74).\n",
    "\n",
    "From the codebook:\n",
    "5  NATION I (UK As one variable.)            \n",
    "6  NATION WEIGHT I                                         \n",
    "7  NATION II (NI and GB separated.)                          \n",
    "8  NATION WEIGHT II                                        \n",
    "9  EUROPEAN WEIGHT\n",
    "\n",
    "(We likely only need 9, but it's easier to leave the rest in our set for now.)\n",
    "```"
   ]
  },
  {
   "cell_type": "code",
   "execution_count": 68,
   "metadata": {
    "collapsed": false
   },
   "outputs": [
    {
     "data": {
      "text/plain": [
       "Index([u'Nation_1', u'Weight_1', u'Nation_2', u'Weight_2', u'European_Weight',\n",
       "       u'Common_Defense', u'Single_Currency', u'Common_Foreign_Policy',\n",
       "       u'European_Government'],\n",
       "      dtype='object')"
      ]
     },
     "execution_count": 68,
     "metadata": {},
     "output_type": "execute_result"
    }
   ],
   "source": [
    "# Import the data into a new data frame and give saner column names.\n",
    "Table1_Data = data[['v5','v6','v7','v8','v9','v563','v565','v566','v567']]\n",
    "Table1_Data.columns = [\n",
    "    'Nation_1',                                                                 \n",
    "    'Weight_1',                                                                 \n",
    "    'Nation_2',                                                         \n",
    "    'Weight_2',                                                                 \n",
    "    'European_Weight',                                                          \n",
    "    'Common_Defense',                                                           \n",
    "    'Single_Currency',                                                          \n",
    "    'Common_Foreign_Policy',                                                    \n",
    "    'European_Government']\n",
    "\n",
    "Table1_Data.columns"
   ]
  },
  {
   "cell_type": "markdown",
   "metadata": {},
   "source": [
    "```\n",
    "From Footnote 11, Page 341\n",
    "'Each of the four question asked the respondent if she were for or against implementing the par-\n",
    "ticular proposal between the twelve countries of the EC by 1992. I coded a response of \"against\" as\n",
    "(0), \"don't know\" as (0.5), and \"for\" as (1).\n",
    "\n",
    "Need to recode data as:\n",
    "\n",
    "\"against\" (0) \n",
    "\"don't know\" (0.5)\n",
    "\"for\" as (1)\n",
    "\n",
    "```"
   ]
  },
  {
   "cell_type": "code",
   "execution_count": 74,
   "metadata": {
    "collapsed": false,
    "scrolled": false
   },
   "outputs": [
    {
     "data": {
      "text/plain": [
       "<bound method Series.describe of 0            FOR\n",
       "1        AGAINST\n",
       "2            NaN\n",
       "3            FOR\n",
       "4            FOR\n",
       "5            FOR\n",
       "6            FOR\n",
       "7            FOR\n",
       "8            FOR\n",
       "9        AGAINST\n",
       "10           FOR\n",
       "11       AGAINST\n",
       "12           FOR\n",
       "13           FOR\n",
       "14           FOR\n",
       "15           FOR\n",
       "16           FOR\n",
       "17           FOR\n",
       "18           FOR\n",
       "19       AGAINST\n",
       "20           FOR\n",
       "21           NaN\n",
       "22       AGAINST\n",
       "23           FOR\n",
       "24           FOR\n",
       "25           NaN\n",
       "26           FOR\n",
       "27           NaN\n",
       "28           NaN\n",
       "29           FOR\n",
       "          ...   \n",
       "11764        NaN\n",
       "11765        FOR\n",
       "11766        NaN\n",
       "11767        FOR\n",
       "11768        NaN\n",
       "11769        NaN\n",
       "11770        NaN\n",
       "11771        NaN\n",
       "11772        NaN\n",
       "11773        NaN\n",
       "11774        NaN\n",
       "11775        FOR\n",
       "11776        NaN\n",
       "11777        FOR\n",
       "11778        NaN\n",
       "11779        NaN\n",
       "11780        FOR\n",
       "11781        NaN\n",
       "11782        FOR\n",
       "11783        NaN\n",
       "11784        NaN\n",
       "11785        FOR\n",
       "11786        NaN\n",
       "11787        FOR\n",
       "11788        FOR\n",
       "11789        FOR\n",
       "11790        FOR\n",
       "11791        FOR\n",
       "11792        FOR\n",
       "11793        FOR\n",
       "Name: Common_Defense, dtype: category\n",
       "Categories (2, object): [FOR < AGAINST]>"
      ]
     },
     "execution_count": 74,
     "metadata": {},
     "output_type": "execute_result"
    }
   ],
   "source": [
    "# One column at a time:\n",
    "# data.events = data.events.fillna(\"\")\n",
    "# (Can do it using apply to do it in one pass, but not sure that there are no NAN's elsewhere in the data.)\n",
    "\n",
    "# Score \"don't know\" = 0.5\n",
    "#Table1_Data.Common_Defense = Table1_Data.Common_Defense.fillna(\"0.5\")\n",
    "#Table1_Data.Single_Currency = Table1_Data.Single_Currency.fillna(\"0.5\")\n",
    "#Table1_Data.Common_Foreign_Policy = Table1_Data.Common_Foreign_Policy(\"0.5\") \n",
    "#Table1_Data.European_Government = Table1_Data.European_Government(\"0.5\")\n",
    "\n",
    "Table1_Data.Common_Defense.describe\n"
   ]
  },
  {
   "cell_type": "code",
   "execution_count": null,
   "metadata": {
    "collapsed": true
   },
   "outputs": [],
   "source": []
  },
  {
   "cell_type": "code",
   "execution_count": null,
   "metadata": {
    "collapsed": true
   },
   "outputs": [],
   "source": []
  }
 ],
 "metadata": {
  "kernelspec": {
   "display_name": "Python 2",
   "language": "python",
   "name": "python2"
  },
  "language_info": {
   "codemirror_mode": {
    "name": "ipython",
    "version": 2
   },
   "file_extension": ".py",
   "mimetype": "text/x-python",
   "name": "python",
   "nbconvert_exporter": "python",
   "pygments_lexer": "ipython2",
   "version": "2.7.10"
  }
 },
 "nbformat": 4,
 "nbformat_minor": 2
}
